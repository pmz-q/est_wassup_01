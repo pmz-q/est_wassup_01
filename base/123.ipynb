{
 "cells": [
  {
   "cell_type": "code",
   "execution_count": 1,
   "metadata": {},
   "outputs": [
    {
     "data": {
      "text/plain": [
       "((39609, 34), (39609,), (10963, 34))"
      ]
     },
     "execution_count": 1,
     "metadata": {},
     "output_type": "execute_result"
    }
   ],
   "source": [
    "import pandas as pd\n",
    "import numpy as np\n",
    "\n",
    "train_df = pd.read_csv('../../data/train.csv',index_col='ID')\n",
    "test_df = pd.read_csv('../../data/test.csv',index_col='ID')\n",
    "\n",
    "train_df = train_df[['사고일시','요일', '기상상태', '도로형태', '노면상태', '사고유형','ECLO']]\n",
    "test_df = test_df[['사고일시','요일', '기상상태', '도로형태', '노면상태', '사고유형']]\n",
    "\n",
    "train_df['사고일시'] = pd.to_datetime(train_df['사고일시'], format='%Y-%m-%d %H', errors='raise')\n",
    "train_df['시간'] = train_df['사고일시'].dt.hour\n",
    "train_df['월'] = train_df['사고일시'].dt.month\n",
    "test_df['사고일시'] = pd.to_datetime(test_df['사고일시'], format='%Y-%m-%d %H', errors='raise')\n",
    "test_df['시간'] = test_df['사고일시'].dt.hour\n",
    "test_df['월'] = test_df['사고일시'].dt.month\n",
    "train_df.drop(columns='사고일시',inplace=True)\n",
    "test_df.drop(columns='사고일시',inplace=True)\n",
    "\n",
    "train_df = pd.get_dummies(train_df)\n",
    "test_df = pd.get_dummies(test_df)\n",
    "\n",
    "X_trn = train_df.drop(columns='ECLO').astype(np.float32)\n",
    "X_trn.drop(columns='기상상태_안개',inplace=True)\n",
    "y_trn = train_df['ECLO'].astype(np.float32)\n",
    "\n",
    "X_tst = test_df.astype(np.float32)\n",
    "\n",
    "X_trn.shape, y_trn.shape, X_tst.shape"
   ]
  },
  {
   "cell_type": "code",
   "execution_count": 2,
   "metadata": {},
   "outputs": [
    {
     "name": "stderr",
     "output_type": "stream",
     "text": [
      "c:\\users\\zpdlc\\appdata\\local\\programs\\python\\python311\\lib\\site-packages\\tqdm\\auto.py:21: TqdmWarning: IProgress not found. Please update jupyter and ipywidgets. See https://ipywidgets.readthedocs.io/en/stable/user_install.html\n",
      "  from .autonotebook import tqdm as notebook_tqdm\n"
     ]
    }
   ],
   "source": [
    "import torch\n",
    "from torch import nn\n",
    "from torch.utils.data import DataLoader\n",
    "import torchmetrics\n",
    "from typing import Optional, List\n",
    "import numpy as np\n",
    "import pandas as pd\n",
    "  \n",
    "from nn import ANN\n",
    "from utils import CustomDataset\n",
    "from torchmetrics import MeanAbsoluteError, MeanSquaredError, MeanSquaredLogError\n",
    "from tqdm.auto import tqdm\n",
    "\n",
    "def train_one_epoch(\n",
    "    model: nn.Module,\n",
    "    criterion: callable,\n",
    "    optimizer: torch.optim.Optimizer,\n",
    "    data_loader: DataLoader,\n",
    "    device: str\n",
    ") -> float:\n",
    "    '''train one epoch\n",
    "\n",
    "    Args:\n",
    "        model: model\n",
    "        criterion: loss\n",
    "        optimizer: optimizer\n",
    "        data_loader: data loader\n",
    "        device: device\n",
    "    '''\n",
    "    model.train()\n",
    "    total_loss = 0.\n",
    "    for X, y in data_loader:\n",
    "        X, y = X.to(device), y.to(device)\n",
    "        output = model(X)\n",
    "        loss = criterion(output, y)\n",
    "        optimizer.zero_grad()\n",
    "        loss.backward()\n",
    "        optimizer.step()\n",
    "        total_loss += loss.item() * len(y)\n",
    "    return total_loss / len(data_loader.dataset)\n",
    "\n",
    "def evaluate(\n",
    "    model: nn.Module,\n",
    "    criterion: callable,\n",
    "    data_loader: DataLoader,\n",
    "    device: str,\n",
    "    metric: Optional[torchmetrics.metric.Metric] = None,\n",
    "    multi_metrics: List[torchmetrics.metric.Metric] = None\n",
    ") -> float:\n",
    "    '''evaluate\n",
    "\n",
    "    Args:\n",
    "        model: model\n",
    "        criterions: list of criterion functions\n",
    "        data_loader: data loader\n",
    "        device: device\n",
    "    '''\n",
    "    model.eval()\n",
    "    total_loss = 0.\n",
    "\n",
    "    mae, mse, msle = (\n",
    "        MeanAbsoluteError().to(device),\n",
    "        MeanSquaredError().to(device),\n",
    "        MeanSquaredLogError().to(device)\n",
    "    )\n",
    "\n",
    "    with torch.no_grad():\n",
    "        for X, y in data_loader:\n",
    "            X, y = X.to(device), y.to(device)\n",
    "            output = model(X)\n",
    "            total_loss += criterion(output, y).item() * len(y)\n",
    "\n",
    "            if metric is not None:\n",
    "                metric.update(output, y)\n",
    "\n",
    "            if multi_metrics is not None:\n",
    "                for metric in multi_metrics:\n",
    "                    metric.update(output, y)\n",
    "\n",
    "    if isinstance(total_loss, torch.Tensor):\n",
    "        return total_loss.item() / len(data_loader.dataset)\n",
    "    else:\n",
    "        return total_loss / len(data_loader.dataset)\n",
    "\n",
    "def kfold_cross_validation(model: nn.Module, criterion:callable, device:str, X_trn:np.array, y_trn:np.array, n_splits:int=5):\n",
    "  from sklearn.model_selection import KFold\n",
    "  from torchmetrics import MeanAbsoluteError, MeanSquaredError, MeanSquaredLogError\n",
    "  # from sklearn.metrics import mean_absolute_error,mean_squared_error,mean_squared_log_error\n",
    "  from copy import deepcopy\n",
    "  \n",
    "  Kf = KFold(n_splits=n_splits, shuffle=True, random_state=2023)\n",
    "  nets = [deepcopy(model) for i in range(n_splits)]\n",
    "  scores = {\n",
    "  'mae': [],\n",
    "  'mse': [],\n",
    "  'msle': []\n",
    "  }\n",
    "  for i, (trn_idx, val_idx) in enumerate(Kf.split(X_trn, y_trn)):\n",
    "    X, y = (\n",
    "        torch.tensor(X_trn.iloc[trn_idx].values).to(device),\n",
    "        torch.tensor(y_trn.iloc[trn_idx].values).to(device)\n",
    "    )\n",
    "    X_val, y_val = (\n",
    "        torch.tensor(X_trn.iloc[val_idx].values).to(device),\n",
    "        torch.tensor(y_trn.iloc[val_idx].values).to(device)\n",
    "    )\n",
    "    ds = CustomDataset(X, y)\n",
    "    ds_val = CustomDataset(X_val, y_val)\n",
    "    dl = DataLoader(ds, batch_size=32, shuffle=True)\n",
    "    dl_val = DataLoader(ds_val, batch_size=len(ds_val), shuffle=False)\n",
    "\n",
    "    net = nets[i]()\n",
    "    net.to(device)  # 모델을 디바이스로 이동\n",
    "\n",
    "    pbar = tqdm(range(30))\n",
    "    for j in pbar:\n",
    "        mae, mse, msle = (\n",
    "            MeanAbsoluteError().to(device),\n",
    "            MeanSquaredError().to(device),\n",
    "            MeanSquaredLogError().to(device)\n",
    "        )\n",
    "        criterion = nn.MSELoss(reduction='mean')\n",
    "        optimizer = torch.optim.Adam(net.parameters(), lr=0.0001)\n",
    "        loss = train_one_epoch(net, criterion, optimizer, dl, device)\n",
    "        loss_val = evaluate(net, criterion, dl_val, device, multi_metrics=[mae, mse, msle])\n",
    "        mae, mse, msle = mae.compute(), mse.compute(), msle.compute()\n",
    "        pbar.set_postfix(trn_loss=loss, val_loss=loss_val)\n",
    "\n",
    "    scores[\"mae\"].append(mae.item())\n",
    "    scores[\"mse\"].append(mse.item())\n",
    "    scores[\"msle\"].append(msle.item())\n",
    "  scores_df = pd.DataFrame(scores)\n",
    "  scores_df = pd.concat([scores_df, scores_df.apply(['mean', 'std'])])\n",
    "  print(scores_df)\n",
    "  return scores"
   ]
  },
  {
   "cell_type": "code",
   "execution_count": 3,
   "metadata": {},
   "outputs": [
    {
     "data": {
      "text/plain": [
       "'cuda'"
      ]
     },
     "execution_count": 3,
     "metadata": {},
     "output_type": "execute_result"
    }
   ],
   "source": [
    "device = 'cuda' if torch.cuda.is_available() else 'mps' if torch.backends.mps.is_available() else 'cpu'\n",
    "device"
   ]
  },
  {
   "cell_type": "code",
   "execution_count": 4,
   "metadata": {},
   "outputs": [
    {
     "name": "stderr",
     "output_type": "stream",
     "text": [
      "100%|██████████| 30/30 [01:10<00:00,  2.36s/it, trn_loss=9.88, val_loss=10.6]\n",
      "100%|██████████| 30/30 [01:10<00:00,  2.34s/it, trn_loss=10.2, val_loss=9.11]\n",
      "100%|██████████| 30/30 [01:10<00:00,  2.35s/it, trn_loss=9.9, val_loss=10.4] \n",
      "100%|██████████| 30/30 [01:09<00:00,  2.33s/it, trn_loss=9.99, val_loss=10.2]\n",
      "100%|██████████| 30/30 [01:09<00:00,  2.31s/it, trn_loss=10.1, val_loss=9.82]"
     ]
    },
    {
     "name": "stdout",
     "output_type": "stream",
     "text": [
      "           mae        mse      msle\n",
      "0     2.185246  10.572868  0.213920\n",
      "1     2.126809   9.112566  0.210314\n",
      "2     2.128574  10.439912  0.209654\n",
      "3     2.165910  10.153998  0.214322\n",
      "4     2.122691   9.823783  0.211252\n",
      "mean  2.145846  10.020625  0.211892\n",
      "std   0.028070   0.583498  0.002117\n"
     ]
    },
    {
     "name": "stderr",
     "output_type": "stream",
     "text": [
      "\n"
     ]
    }
   ],
   "source": [
    "scores = kfold_cross_validation(ANN, nn.MSELoss, device, X_trn, y_trn, n_splits = 5)\n",
    "scores_df = pd.DataFrame(scores)\n",
    "scores_df = pd.concat([scores_df, scores_df.apply(['mean', 'std'])])"
   ]
  },
  {
   "cell_type": "code",
   "execution_count": 6,
   "metadata": {},
   "outputs": [
    {
     "data": {
      "text/html": [
       "<div>\n",
       "<style scoped>\n",
       "    .dataframe tbody tr th:only-of-type {\n",
       "        vertical-align: middle;\n",
       "    }\n",
       "\n",
       "    .dataframe tbody tr th {\n",
       "        vertical-align: top;\n",
       "    }\n",
       "\n",
       "    .dataframe thead th {\n",
       "        text-align: right;\n",
       "    }\n",
       "</style>\n",
       "<table border=\"1\" class=\"dataframe\">\n",
       "  <thead>\n",
       "    <tr style=\"text-align: right;\">\n",
       "      <th></th>\n",
       "      <th>mae</th>\n",
       "      <th>mse</th>\n",
       "      <th>msle</th>\n",
       "    </tr>\n",
       "  </thead>\n",
       "  <tbody>\n",
       "    <tr>\n",
       "      <th>0</th>\n",
       "      <td>2.185246</td>\n",
       "      <td>10.572868</td>\n",
       "      <td>0.213920</td>\n",
       "    </tr>\n",
       "    <tr>\n",
       "      <th>1</th>\n",
       "      <td>2.126809</td>\n",
       "      <td>9.112566</td>\n",
       "      <td>0.210314</td>\n",
       "    </tr>\n",
       "    <tr>\n",
       "      <th>2</th>\n",
       "      <td>2.128574</td>\n",
       "      <td>10.439912</td>\n",
       "      <td>0.209654</td>\n",
       "    </tr>\n",
       "    <tr>\n",
       "      <th>3</th>\n",
       "      <td>2.165910</td>\n",
       "      <td>10.153998</td>\n",
       "      <td>0.214322</td>\n",
       "    </tr>\n",
       "    <tr>\n",
       "      <th>4</th>\n",
       "      <td>2.122691</td>\n",
       "      <td>9.823783</td>\n",
       "      <td>0.211252</td>\n",
       "    </tr>\n",
       "    <tr>\n",
       "      <th>mean</th>\n",
       "      <td>2.145846</td>\n",
       "      <td>10.020625</td>\n",
       "      <td>0.211892</td>\n",
       "    </tr>\n",
       "    <tr>\n",
       "      <th>std</th>\n",
       "      <td>0.028070</td>\n",
       "      <td>0.583498</td>\n",
       "      <td>0.002117</td>\n",
       "    </tr>\n",
       "  </tbody>\n",
       "</table>\n",
       "</div>"
      ],
      "text/plain": [
       "           mae        mse      msle\n",
       "0     2.185246  10.572868  0.213920\n",
       "1     2.126809   9.112566  0.210314\n",
       "2     2.128574  10.439912  0.209654\n",
       "3     2.165910  10.153998  0.214322\n",
       "4     2.122691   9.823783  0.211252\n",
       "mean  2.145846  10.020625  0.211892\n",
       "std   0.028070   0.583498  0.002117"
      ]
     },
     "execution_count": 6,
     "metadata": {},
     "output_type": "execute_result"
    }
   ],
   "source": [
    "scores_df"
   ]
  }
 ],
 "metadata": {
  "kernelspec": {
   "display_name": "Python 3",
   "language": "python",
   "name": "python3"
  },
  "language_info": {
   "codemirror_mode": {
    "name": "ipython",
    "version": 3
   },
   "file_extension": ".py",
   "mimetype": "text/x-python",
   "name": "python",
   "nbconvert_exporter": "python",
   "pygments_lexer": "ipython3",
   "version": "3.11.3"
  }
 },
 "nbformat": 4,
 "nbformat_minor": 2
}
